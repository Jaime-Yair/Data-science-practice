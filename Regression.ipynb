{
 "cells": [
  {
   "cell_type": "markdown",
   "metadata": {},
   "source": [
    "## Least Squares Method"
   ]
  },
  {
   "cell_type": "markdown",
   "metadata": {},
   "source": [
    "In this example, we will use the least square method."
   ]
  },
  {
   "cell_type": "code",
   "execution_count": 77,
   "metadata": {},
   "outputs": [],
   "source": [
    "import numpy as np"
   ]
  },
  {
   "cell_type": "code",
   "execution_count": 78,
   "metadata": {},
   "outputs": [],
   "source": [
    "# We use the following functin for the least square method\n",
    "\n",
    "def min_sq(x,y):\n",
    "    x_bar,y_bar=np.mean(x),np.mean(y)\n",
    "    beta_1=np.dot(x-x_bar,y-y_bar)/np.linalg.norm(x-x_bar)**2\n",
    "    beta_0=y_bar-beta_1*x_bar\n",
    "    return [beta_1,beta_0]"
   ]
  },
  {
   "cell_type": "code",
   "execution_count": 79,
   "metadata": {},
   "outputs": [],
   "source": [
    "N=100 # Data generation\n",
    "a=np.random.normal(loc=2,scale=1,size=N) # randomly generate the coefficients of the line\n",
    "b=np.random.randn(1) # randomly generate the points surrounding the line\n",
    "x=np.random.randn(N)\n",
    "y=a*x+b+0.001*np.random.randn(N)\n",
    "a1,b1=min_sq(x,y) # estimating coefficients"
   ]
  },
  {
   "cell_type": "code",
   "execution_count": 80,
   "metadata": {},
   "outputs": [
    {
     "data": {
      "text/plain": [
       "<matplotlib.legend.Legend at 0x1f7e738b308>"
      ]
     },
     "execution_count": 80,
     "metadata": {},
     "output_type": "execute_result"
    },
    {
     "data": {
      "image/png": "[encoded data removed]",
      "text/plain": [
       "<Figure size 432x288 with 1 Axes>"
      ]
     },
     "metadata": {
      "needs_background": "light"
     },
     "output_type": "display_data"
    }
   ],
   "source": [
    "import matplotlib.pyplot as plt\n",
    "\n",
    "x_seq=np.arange(-5,5,0.1)\n",
    "y_pre=x_seq*a1+b1\n",
    "\n",
    "\n",
    "plt.scatter(x,y,c=\"black\") # plots of the points\n",
    "plt.axhline(y=0,c=\"black\",linewidth=0.5)\n",
    "plt.axvline(x=0,c=\"black\",linewidth=0.5)\n",
    "plt.plot(x_seq,y_pre,c=\"blue\",label=\"y=Ax+b\") # the line before centering\n",
    "plt.legend(loc=\"upper left\")"
   ]
  }
 ],
 "metadata": {
  "kernelspec": {
   "display_name": "Python 3",
   "language": "python",
   "name": "python3"
  },
  "language_info": {
   "codemirror_mode": {
    "name": "ipython",
    "version": 3
   },
   "file_extension": ".py",
   "mimetype": "text/x-python",
   "name": "python",
   "nbconvert_exporter": "python",
   "pygments_lexer": "ipython3",
   "version": "3.7.6"
  }
 },
 "nbformat": 4,
 "nbformat_minor": 4
}
