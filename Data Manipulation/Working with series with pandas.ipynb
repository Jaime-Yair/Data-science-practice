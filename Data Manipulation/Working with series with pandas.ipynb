{
 "cells": [
  {
   "cell_type": "markdown",
   "id": "7577cc56",
   "metadata": {},
   "source": [
    "<hr>\n",
    "<h1><center>Pandas Series</center></h1>\n",
    "<hr>"
   ]
  },
  {
   "cell_type": "code",
   "execution_count": 1,
   "id": "b5a9471d",
   "metadata": {},
   "outputs": [],
   "source": [
    "import pandas as pd"
   ]
  },
  {
   "cell_type": "markdown",
   "id": "5afd9ad8",
   "metadata": {},
   "source": [
    "#### Creating a serie with pandas"
   ]
  },
  {
   "cell_type": "code",
   "execution_count": 2,
   "id": "97abbadd",
   "metadata": {},
   "outputs": [
    {
     "data": {
      "text/plain": [
       "0    1\n",
       "1    4\n",
       "2    6\n",
       "3    7\n",
       "4    8\n",
       "dtype: int64"
      ]
     },
     "execution_count": 2,
     "metadata": {},
     "output_type": "execute_result"
    }
   ],
   "source": [
    "ds = pd.Series([1,4,6,7,8])\n",
    "ds"
   ]
  },
  {
   "cell_type": "code",
   "execution_count": 3,
   "id": "f954d69e",
   "metadata": {},
   "outputs": [
    {
     "data": {
      "text/plain": [
       "pandas.core.series.Series"
      ]
     },
     "execution_count": 3,
     "metadata": {},
     "output_type": "execute_result"
    }
   ],
   "source": [
    "type(ds)"
   ]
  },
  {
   "cell_type": "markdown",
   "id": "14110444",
   "metadata": {},
   "source": [
    "#### Converting to a list"
   ]
  },
  {
   "cell_type": "code",
   "execution_count": 4,
   "id": "0f2555eb",
   "metadata": {},
   "outputs": [
    {
     "data": {
      "text/plain": [
       "[1, 4, 6, 7, 8]"
      ]
     },
     "execution_count": 4,
     "metadata": {},
     "output_type": "execute_result"
    }
   ],
   "source": [
    "ds.tolist()"
   ]
  },
  {
   "cell_type": "markdown",
   "id": "cd0ef6df",
   "metadata": {},
   "source": [
    "#### Adding"
   ]
  },
  {
   "cell_type": "code",
   "execution_count": 5,
   "id": "fdda6670",
   "metadata": {},
   "outputs": [],
   "source": [
    "ds2 = pd.Series([1, 3, 5, 7, 5])"
   ]
  },
  {
   "cell_type": "code",
   "execution_count": 6,
   "id": "d8b0c07b",
   "metadata": {},
   "outputs": [
    {
     "data": {
      "text/plain": [
       "0     2\n",
       "1     7\n",
       "2    11\n",
       "3    14\n",
       "4    13\n",
       "dtype: int64"
      ]
     },
     "execution_count": 6,
     "metadata": {},
     "output_type": "execute_result"
    }
   ],
   "source": [
    "ds + ds2"
   ]
  },
  {
   "cell_type": "markdown",
   "id": "4c37b2a1",
   "metadata": {},
   "source": [
    "#### Substracting"
   ]
  },
  {
   "cell_type": "code",
   "execution_count": 7,
   "id": "a5c2dcd4",
   "metadata": {},
   "outputs": [
    {
     "data": {
      "text/plain": [
       "0    0\n",
       "1    1\n",
       "2    1\n",
       "3    0\n",
       "4    3\n",
       "dtype: int64"
      ]
     },
     "execution_count": 7,
     "metadata": {},
     "output_type": "execute_result"
    }
   ],
   "source": [
    "ds - ds2"
   ]
  },
  {
   "cell_type": "markdown",
   "id": "97c8f030",
   "metadata": {},
   "source": [
    "#### Multiplying"
   ]
  },
  {
   "cell_type": "code",
   "execution_count": 8,
   "id": "59513448",
   "metadata": {},
   "outputs": [
    {
     "data": {
      "text/plain": [
       "0     1\n",
       "1    12\n",
       "2    30\n",
       "3    49\n",
       "4    40\n",
       "dtype: int64"
      ]
     },
     "execution_count": 8,
     "metadata": {},
     "output_type": "execute_result"
    }
   ],
   "source": [
    "ds * ds2"
   ]
  },
  {
   "cell_type": "markdown",
   "id": "67f12f92",
   "metadata": {},
   "source": [
    "#### Dividing"
   ]
  },
  {
   "cell_type": "code",
   "execution_count": 9,
   "id": "28a10274",
   "metadata": {},
   "outputs": [
    {
     "data": {
      "text/plain": [
       "0    1.000000\n",
       "1    1.333333\n",
       "2    1.200000\n",
       "3    1.000000\n",
       "4    1.600000\n",
       "dtype: float64"
      ]
     },
     "execution_count": 9,
     "metadata": {},
     "output_type": "execute_result"
    }
   ],
   "source": [
    "ds / ds2"
   ]
  },
  {
   "cell_type": "markdown",
   "id": "35eaf0ff",
   "metadata": {},
   "source": [
    "#### Comparing"
   ]
  },
  {
   "cell_type": "code",
   "execution_count": 10,
   "id": "aed5d6ee",
   "metadata": {},
   "outputs": [
    {
     "data": {
      "text/plain": [
       "0     True\n",
       "1    False\n",
       "2    False\n",
       "3     True\n",
       "4    False\n",
       "dtype: bool"
      ]
     },
     "execution_count": 10,
     "metadata": {},
     "output_type": "execute_result"
    }
   ],
   "source": [
    "ds == ds2"
   ]
  },
  {
   "cell_type": "code",
   "execution_count": 11,
   "id": "e88d17e0",
   "metadata": {},
   "outputs": [
    {
     "data": {
      "text/plain": [
       "0    True\n",
       "1    True\n",
       "2    True\n",
       "3    True\n",
       "4    True\n",
       "dtype: bool"
      ]
     },
     "execution_count": 11,
     "metadata": {},
     "output_type": "execute_result"
    }
   ],
   "source": [
    "ds >= ds2"
   ]
  },
  {
   "cell_type": "code",
   "execution_count": 12,
   "id": "45ec251e",
   "metadata": {},
   "outputs": [
    {
     "data": {
      "text/plain": [
       "0     True\n",
       "1    False\n",
       "2    False\n",
       "3     True\n",
       "4    False\n",
       "dtype: bool"
      ]
     },
     "execution_count": 12,
     "metadata": {},
     "output_type": "execute_result"
    }
   ],
   "source": [
    "ds <= ds2"
   ]
  },
  {
   "cell_type": "code",
   "execution_count": 13,
   "id": "6a65f193",
   "metadata": {},
   "outputs": [
    {
     "data": {
      "text/plain": [
       "0    False\n",
       "1     True\n",
       "2     True\n",
       "3    False\n",
       "4     True\n",
       "dtype: bool"
      ]
     },
     "execution_count": 13,
     "metadata": {},
     "output_type": "execute_result"
    }
   ],
   "source": [
    "ds != ds2"
   ]
  },
  {
   "cell_type": "markdown",
   "id": "d6739370",
   "metadata": {},
   "source": [
    "#### Converting to a pd.series"
   ]
  },
  {
   "cell_type": "code",
   "execution_count": 14,
   "id": "cccbd78b",
   "metadata": {},
   "outputs": [],
   "source": [
    "d = {'a': 2, 'b': 4, 'c':6, 'd':8}"
   ]
  },
  {
   "cell_type": "code",
   "execution_count": 15,
   "id": "cff56a57",
   "metadata": {},
   "outputs": [
    {
     "data": {
      "text/plain": [
       "a    2\n",
       "b    4\n",
       "c    6\n",
       "d    8\n",
       "dtype: int64"
      ]
     },
     "execution_count": 15,
     "metadata": {},
     "output_type": "execute_result"
    }
   ],
   "source": [
    "ds = pd.Series(d)\n",
    "ds"
   ]
  },
  {
   "cell_type": "code",
   "execution_count": 16,
   "id": "6288a2de",
   "metadata": {},
   "outputs": [
    {
     "data": {
      "text/plain": [
       "0    2\n",
       "1    4\n",
       "2    6\n",
       "3    8\n",
       "dtype: int32"
      ]
     },
     "execution_count": 16,
     "metadata": {},
     "output_type": "execute_result"
    }
   ],
   "source": [
    "import numpy as np\n",
    "\n",
    "array = np.array([2,4,6,8])\n",
    "ds = pd.Series(array)\n",
    "ds"
   ]
  },
  {
   "cell_type": "code",
   "execution_count": 17,
   "id": "f6b6d160",
   "metadata": {},
   "outputs": [
    {
     "data": {
      "text/plain": [
       "[2, 4, 6, 8]"
      ]
     },
     "execution_count": 17,
     "metadata": {},
     "output_type": "execute_result"
    }
   ],
   "source": [
    "lis = ds.values.tolist()\n",
    "lis"
   ]
  },
  {
   "cell_type": "markdown",
   "id": "3c76ea4d",
   "metadata": {},
   "source": [
    "#### The first column of a dataset as a pd.Series"
   ]
  },
  {
   "cell_type": "code",
   "execution_count": 18,
   "id": "d1eda355",
   "metadata": {},
   "outputs": [],
   "source": [
    "# import some data to play with\n",
    "from sklearn import datasets\n",
    "\n",
    "iris = datasets.load_iris()\n",
    "df = iris.data[:, :2]  # we only take the first two features.\n",
    "df = pd.DataFrame(df)"
   ]
  },
  {
   "cell_type": "code",
   "execution_count": 19,
   "id": "c0980f2d",
   "metadata": {},
   "outputs": [
    {
     "data": {
      "text/html": [
       "<div>\n",
       "<style scoped>\n",
       "    .dataframe tbody tr th:only-of-type {\n",
       "        vertical-align: middle;\n",
       "    }\n",
       "\n",
       "    .dataframe tbody tr th {\n",
       "        vertical-align: top;\n",
       "    }\n",
       "\n",
       "    .dataframe thead th {\n",
       "        text-align: right;\n",
       "    }\n",
       "</style>\n",
       "<table border=\"1\" class=\"dataframe\">\n",
       "  <thead>\n",
       "    <tr style=\"text-align: right;\">\n",
       "      <th></th>\n",
       "      <th>1</th>\n",
       "    </tr>\n",
       "  </thead>\n",
       "  <tbody>\n",
       "    <tr>\n",
       "      <th>0</th>\n",
       "      <td>3.5</td>\n",
       "    </tr>\n",
       "    <tr>\n",
       "      <th>1</th>\n",
       "      <td>3.0</td>\n",
       "    </tr>\n",
       "    <tr>\n",
       "      <th>2</th>\n",
       "      <td>3.2</td>\n",
       "    </tr>\n",
       "    <tr>\n",
       "      <th>3</th>\n",
       "      <td>3.1</td>\n",
       "    </tr>\n",
       "    <tr>\n",
       "      <th>4</th>\n",
       "      <td>3.6</td>\n",
       "    </tr>\n",
       "  </tbody>\n",
       "</table>\n",
       "</div>"
      ],
      "text/plain": [
       "     1\n",
       "0  3.5\n",
       "1  3.0\n",
       "2  3.2\n",
       "3  3.1\n",
       "4  3.6"
      ]
     },
     "execution_count": 19,
     "metadata": {},
     "output_type": "execute_result"
    }
   ],
   "source": [
    "Serie = df.iloc[:,[1]]\n",
    "Serie.head(5)"
   ]
  },
  {
   "cell_type": "code",
   "execution_count": 20,
   "id": "f1abfd04",
   "metadata": {},
   "outputs": [
    {
     "data": {
      "text/plain": [
       "pandas.core.frame.DataFrame"
      ]
     },
     "execution_count": 20,
     "metadata": {},
     "output_type": "execute_result"
    }
   ],
   "source": [
    "type(Serie)"
   ]
  },
  {
   "cell_type": "markdown",
   "id": "3896486d",
   "metadata": {},
   "source": [
    "#### Sorting"
   ]
  },
  {
   "cell_type": "code",
   "execution_count": 21,
   "id": "c9c0b123",
   "metadata": {},
   "outputs": [],
   "source": [
    "s = pd.Series([8,4,6,1,6])"
   ]
  },
  {
   "cell_type": "code",
   "execution_count": 22,
   "id": "cace9e75",
   "metadata": {},
   "outputs": [
    {
     "data": {
      "text/plain": [
       "3    1\n",
       "1    4\n",
       "2    6\n",
       "4    6\n",
       "0    8\n",
       "dtype: int64"
      ]
     },
     "execution_count": 22,
     "metadata": {},
     "output_type": "execute_result"
    }
   ],
   "source": [
    "s_sorted = s.sort_values()\n",
    "s_sorted"
   ]
  },
  {
   "cell_type": "markdown",
   "id": "ef72d803",
   "metadata": {},
   "source": [
    "#### Adding more elements to a series"
   ]
  },
  {
   "cell_type": "code",
   "execution_count": 23,
   "id": "a499ce5e",
   "metadata": {},
   "outputs": [],
   "source": [
    "s1 = pd.Series(['100', '200', 'python', '300.12', '400'])\n",
    "s2 = pd.Series(['500', 'php'])"
   ]
  },
  {
   "cell_type": "code",
   "execution_count": 24,
   "id": "7959ebfd",
   "metadata": {},
   "outputs": [
    {
     "data": {
      "text/plain": [
       "0       100\n",
       "1       200\n",
       "2    python\n",
       "3    300.12\n",
       "4       400\n",
       "0       500\n",
       "1       php\n",
       "dtype: object"
      ]
     },
     "execution_count": 24,
     "metadata": {},
     "output_type": "execute_result"
    }
   ],
   "source": [
    "new = pd.concat((s1,s2))\n",
    "new"
   ]
  },
  {
   "cell_type": "code",
   "execution_count": 25,
   "id": "6f56b0e8",
   "metadata": {},
   "outputs": [
    {
     "data": {
      "text/html": [
       "<div>\n",
       "<style scoped>\n",
       "    .dataframe tbody tr th:only-of-type {\n",
       "        vertical-align: middle;\n",
       "    }\n",
       "\n",
       "    .dataframe tbody tr th {\n",
       "        vertical-align: top;\n",
       "    }\n",
       "\n",
       "    .dataframe thead th {\n",
       "        text-align: right;\n",
       "    }\n",
       "</style>\n",
       "<table border=\"1\" class=\"dataframe\">\n",
       "  <thead>\n",
       "    <tr style=\"text-align: right;\">\n",
       "      <th></th>\n",
       "      <th>index</th>\n",
       "      <th>0</th>\n",
       "    </tr>\n",
       "  </thead>\n",
       "  <tbody>\n",
       "    <tr>\n",
       "      <th>0</th>\n",
       "      <td>0</td>\n",
       "      <td>100</td>\n",
       "    </tr>\n",
       "    <tr>\n",
       "      <th>1</th>\n",
       "      <td>1</td>\n",
       "      <td>200</td>\n",
       "    </tr>\n",
       "    <tr>\n",
       "      <th>2</th>\n",
       "      <td>2</td>\n",
       "      <td>python</td>\n",
       "    </tr>\n",
       "    <tr>\n",
       "      <th>3</th>\n",
       "      <td>3</td>\n",
       "      <td>300.12</td>\n",
       "    </tr>\n",
       "    <tr>\n",
       "      <th>4</th>\n",
       "      <td>4</td>\n",
       "      <td>400</td>\n",
       "    </tr>\n",
       "    <tr>\n",
       "      <th>5</th>\n",
       "      <td>0</td>\n",
       "      <td>500</td>\n",
       "    </tr>\n",
       "    <tr>\n",
       "      <th>6</th>\n",
       "      <td>1</td>\n",
       "      <td>php</td>\n",
       "    </tr>\n",
       "  </tbody>\n",
       "</table>\n",
       "</div>"
      ],
      "text/plain": [
       "   index       0\n",
       "0      0     100\n",
       "1      1     200\n",
       "2      2  python\n",
       "3      3  300.12\n",
       "4      4     400\n",
       "5      0     500\n",
       "6      1     php"
      ]
     },
     "execution_count": 25,
     "metadata": {},
     "output_type": "execute_result"
    }
   ],
   "source": [
    "conc = pd.concat((s1,s2)).reset_index()\n",
    "conc"
   ]
  },
  {
   "cell_type": "markdown",
   "id": "76cde991",
   "metadata": {},
   "source": [
    "#### Subsets"
   ]
  },
  {
   "cell_type": "code",
   "execution_count": 26,
   "id": "b4903c52",
   "metadata": {},
   "outputs": [
    {
     "data": {
      "text/plain": [
       "0    1\n",
       "1    2\n",
       "2    3\n",
       "3    4\n",
       "4    5\n",
       "dtype: int64"
      ]
     },
     "execution_count": 26,
     "metadata": {},
     "output_type": "execute_result"
    }
   ],
   "source": [
    "s = pd.Series([1,2,3,4,5,6,7,8,9,10])\n",
    "s[s<=5]"
   ]
  },
  {
   "cell_type": "markdown",
   "id": "5c16bd82",
   "metadata": {},
   "source": [
    "#### Mean and standar deviation"
   ]
  },
  {
   "cell_type": "code",
   "execution_count": 27,
   "id": "642739e9",
   "metadata": {},
   "outputs": [
    {
     "data": {
      "text/plain": [
       "5.5"
      ]
     },
     "execution_count": 27,
     "metadata": {},
     "output_type": "execute_result"
    }
   ],
   "source": [
    "s.mean()"
   ]
  },
  {
   "cell_type": "code",
   "execution_count": 28,
   "id": "7731fe3e",
   "metadata": {},
   "outputs": [
    {
     "data": {
      "text/plain": [
       "3.0276503540974917"
      ]
     },
     "execution_count": 28,
     "metadata": {},
     "output_type": "execute_result"
    }
   ],
   "source": [
    "s.std()"
   ]
  },
  {
   "cell_type": "markdown",
   "id": "524dcc7d",
   "metadata": {},
   "source": [
    "#### Union and interception"
   ]
  },
  {
   "cell_type": "code",
   "execution_count": 29,
   "id": "d8a0ae7d",
   "metadata": {},
   "outputs": [],
   "source": [
    "s1 = pd.Series([1,2,3,4,5,6,7,8,9,10,11,12])\n",
    "s2 = pd.Series([2,4,6,8,10])"
   ]
  },
  {
   "cell_type": "code",
   "execution_count": 30,
   "id": "2e6ed334",
   "metadata": {},
   "outputs": [
    {
     "data": {
      "text/plain": [
       "array([ 2,  4,  6,  8, 10], dtype=int64)"
      ]
     },
     "execution_count": 30,
     "metadata": {},
     "output_type": "execute_result"
    }
   ],
   "source": [
    "np.intersect1d(s1,s2)"
   ]
  },
  {
   "cell_type": "code",
   "execution_count": 31,
   "id": "1ac89ec9",
   "metadata": {},
   "outputs": [
    {
     "data": {
      "text/plain": [
       "0      1\n",
       "1      2\n",
       "2      3\n",
       "3      4\n",
       "4      5\n",
       "5      6\n",
       "6      7\n",
       "7      8\n",
       "8      9\n",
       "9     10\n",
       "10    11\n",
       "11    12\n",
       "dtype: int64"
      ]
     },
     "execution_count": 31,
     "metadata": {},
     "output_type": "execute_result"
    }
   ],
   "source": [
    "s_union = pd.Series(np.union1d(s1, s2))\n",
    "s_union"
   ]
  },
  {
   "cell_type": "code",
   "execution_count": 32,
   "id": "986b59b5",
   "metadata": {},
   "outputs": [
    {
     "data": {
      "text/plain": [
       "0     2\n",
       "1     4\n",
       "2     6\n",
       "3     8\n",
       "4    10\n",
       "dtype: int64"
      ]
     },
     "execution_count": 32,
     "metadata": {},
     "output_type": "execute_result"
    }
   ],
   "source": [
    "s_intercept = pd.Series(np.intersect1d(s1, s2))\n",
    "s_intercept"
   ]
  },
  {
   "cell_type": "markdown",
   "id": "a54041e7",
   "metadata": {},
   "source": [
    "#### The frequency of each unique value"
   ]
  },
  {
   "cell_type": "code",
   "execution_count": 33,
   "id": "31631670",
   "metadata": {},
   "outputs": [
    {
     "data": {
      "text/plain": [
       "0    2\n",
       "1    0\n",
       "2    3\n",
       "3    1\n",
       "4    7\n",
       "dtype: int32"
      ]
     },
     "execution_count": 33,
     "metadata": {},
     "output_type": "execute_result"
    }
   ],
   "source": [
    "serie = pd.Series(np.random.randint(0,10, size=100))\n",
    "serie.head(5)"
   ]
  },
  {
   "cell_type": "code",
   "execution_count": 34,
   "id": "ce93a565",
   "metadata": {},
   "outputs": [
    {
     "data": {
      "text/plain": [
       "0    14\n",
       "6    14\n",
       "2    13\n",
       "3    13\n",
       "8    12\n",
       "1    10\n",
       "4    10\n",
       "7     5\n",
       "9     5\n",
       "5     4\n",
       "dtype: int64"
      ]
     },
     "execution_count": 34,
     "metadata": {},
     "output_type": "execute_result"
    }
   ],
   "source": [
    "serie.value_counts()"
   ]
  },
  {
   "cell_type": "code",
   "execution_count": 35,
   "id": "78960a7a",
   "metadata": {},
   "outputs": [
    {
     "data": {
      "text/plain": [
       "0    14\n",
       "dtype: int64"
      ]
     },
     "execution_count": 35,
     "metadata": {},
     "output_type": "execute_result"
    }
   ],
   "source": [
    "serie.value_counts().head(1)  # The most frequent value"
   ]
  },
  {
   "cell_type": "markdown",
   "id": "0f328935",
   "metadata": {},
   "source": [
    "#### The positions of the values that are multiple of three"
   ]
  },
  {
   "cell_type": "code",
   "execution_count": 36,
   "id": "3ea913f1",
   "metadata": {},
   "outputs": [
    {
     "data": {
      "text/plain": [
       "(array([ 5,  7, 10, 12, 15, 23, 24, 25, 26, 28, 29, 31, 36, 41, 43, 44, 45,\n",
       "        49, 50, 54, 55, 58, 60, 61, 69, 72, 77, 78, 91, 92, 94, 95, 96, 98],\n",
       "       dtype=int64),)"
      ]
     },
     "execution_count": 36,
     "metadata": {},
     "output_type": "execute_result"
    }
   ],
   "source": [
    "import pandas as pd\n",
    "import numpy as np\n",
    "num_series = pd.Series(np.random.randint(1, 100, 100))\n",
    "\n",
    "\n",
    "result1 = np.where(num_series % 3==0)\n",
    "result1"
   ]
  },
  {
   "cell_type": "code",
   "execution_count": 37,
   "id": "8900c1da",
   "metadata": {},
   "outputs": [],
   "source": [
    "result2 = []\n",
    "\n",
    "for i,j in enumerate(num_series):\n",
    "    if j%3==0:\n",
    "        result2.append(i)"
   ]
  },
  {
   "cell_type": "code",
   "execution_count": 38,
   "id": "1b3855ad",
   "metadata": {},
   "outputs": [
    {
     "data": {
      "text/plain": [
       "array([ 5,  7, 10, 12, 15, 23, 24, 25, 26, 28, 29, 31, 36, 41, 43, 44, 45,\n",
       "       49, 50, 54, 55, 58, 60, 61, 69, 72, 77, 78, 91, 92, 94, 95, 96, 98])"
      ]
     },
     "execution_count": 38,
     "metadata": {},
     "output_type": "execute_result"
    }
   ],
   "source": [
    "result2 = np.array(result2)\n",
    "result2"
   ]
  },
  {
   "cell_type": "code",
   "execution_count": 39,
   "id": "670c7427",
   "metadata": {},
   "outputs": [],
   "source": [
    "serie = pd.Series(np.random.randint(1,10,50))"
   ]
  },
  {
   "cell_type": "code",
   "execution_count": 40,
   "id": "a43c5af4",
   "metadata": {},
   "outputs": [
    {
     "data": {
      "text/plain": [
       "(array([22, 29, 31, 35, 38], dtype=int64),)"
      ]
     },
     "execution_count": 40,
     "metadata": {},
     "output_type": "execute_result"
    }
   ],
   "source": [
    "np.where(serie%5==0)"
   ]
  },
  {
   "cell_type": "code",
   "execution_count": 41,
   "id": "68b329d7",
   "metadata": {},
   "outputs": [
    {
     "data": {
      "text/plain": [
       "((array([ 1,  3,  4,  7,  8, 10, 13, 15, 17, 21, 26, 32, 33, 37, 40, 42, 45,\n",
       "         49], dtype=int64),),\n",
       " (array([22, 29, 31, 35, 38], dtype=int64),))"
      ]
     },
     "execution_count": 41,
     "metadata": {},
     "output_type": "execute_result"
    }
   ],
   "source": [
    "a = np.where(serie%3==0)\n",
    "b = np.where(serie%5==0)\n",
    "a,b"
   ]
  },
  {
   "cell_type": "code",
   "execution_count": 42,
   "id": "9b0395c8",
   "metadata": {},
   "outputs": [],
   "source": [
    "result = pd.Series(np.union1d(a,b))"
   ]
  },
  {
   "cell_type": "code",
   "execution_count": 43,
   "id": "1b586d90",
   "metadata": {},
   "outputs": [
    {
     "data": {
      "text/plain": [
       "0      1\n",
       "1      3\n",
       "2      4\n",
       "3      7\n",
       "4      8\n",
       "5     10\n",
       "6     13\n",
       "7     15\n",
       "8     17\n",
       "9     21\n",
       "10    22\n",
       "11    26\n",
       "12    29\n",
       "13    31\n",
       "14    32\n",
       "15    33\n",
       "16    35\n",
       "17    37\n",
       "18    38\n",
       "19    40\n",
       "20    42\n",
       "21    45\n",
       "22    49\n",
       "dtype: int64"
      ]
     },
     "execution_count": 43,
     "metadata": {},
     "output_type": "execute_result"
    }
   ],
   "source": [
    "result"
   ]
  },
  {
   "cell_type": "code",
   "execution_count": 44,
   "id": "c90757a0",
   "metadata": {},
   "outputs": [
    {
     "data": {
      "text/plain": [
       "0     8\n",
       "2     4\n",
       "6     7\n",
       "11    1\n",
       "21    9\n",
       "dtype: int32"
      ]
     },
     "execution_count": 44,
     "metadata": {},
     "output_type": "execute_result"
    }
   ],
   "source": [
    "element_pos = [0, 2, 6, 11, 21]\n",
    "serie.take(element_pos)"
   ]
  },
  {
   "cell_type": "code",
   "execution_count": 45,
   "id": "322b0be9",
   "metadata": {},
   "outputs": [
    {
     "data": {
      "text/plain": [
       "2    4\n",
       "4    9\n",
       "6    7\n",
       "dtype: int32"
      ]
     },
     "execution_count": 45,
     "metadata": {},
     "output_type": "execute_result"
    }
   ],
   "source": [
    "serie.take([2,4,6])"
   ]
  },
  {
   "cell_type": "markdown",
   "id": "825d61ca",
   "metadata": {},
   "source": [
    "#### Calculate the number of elements (words)"
   ]
  },
  {
   "cell_type": "code",
   "execution_count": 46,
   "id": "746b54cf",
   "metadata": {},
   "outputs": [
    {
     "data": {
      "text/plain": [
       "0    6\n",
       "1    6\n",
       "2    5\n",
       "3    5\n",
       "dtype: int64"
      ]
     },
     "execution_count": 46,
     "metadata": {},
     "output_type": "execute_result"
    }
   ],
   "source": [
    "series1 = pd.Series(['Python', 'Pandas', 'Numpy', 'Scipy'])\n",
    "\n",
    "result = series1.map(lambda x: len(x))\n",
    "result"
   ]
  },
  {
   "cell_type": "markdown",
   "id": "4a7e4ec4",
   "metadata": {},
   "source": [
    "#### Capitalize the first and last word"
   ]
  },
  {
   "cell_type": "code",
   "execution_count": 47,
   "id": "56694363",
   "metadata": {},
   "outputs": [
    {
     "data": {
      "text/plain": [
       "0    PythoN\n",
       "1    PandaS\n",
       "2     NumpY\n",
       "3     ScipY\n",
       "dtype: object"
      ]
     },
     "execution_count": 47,
     "metadata": {},
     "output_type": "execute_result"
    }
   ],
   "source": [
    "series1 = pd.Series(['Python', 'Pandas', 'Numpy', 'Scipy'])\n",
    "\n",
    "series1.map(lambda x: x[0].upper()+x[1:-1]+x[-1].upper())"
   ]
  },
  {
   "cell_type": "markdown",
   "id": "f10e03bd",
   "metadata": {},
   "source": [
    "#### Convert a series of date strings to a timeseries"
   ]
  },
  {
   "cell_type": "code",
   "execution_count": 48,
   "id": "26958907",
   "metadata": {},
   "outputs": [
    {
     "data": {
      "text/plain": [
       "0   2015-01-01 00:00:00\n",
       "1   2016-10-02 00:00:00\n",
       "2   2018-03-07 00:00:00\n",
       "3   2014-05-06 00:00:00\n",
       "4   2016-04-12 00:00:00\n",
       "5   2019-04-06 11:20:00\n",
       "dtype: datetime64[ns]"
      ]
     },
     "execution_count": 48,
     "metadata": {},
     "output_type": "execute_result"
    }
   ],
   "source": [
    "date_series = pd.Series(['01 Jan 2015', '10-02-2016', '20180307', '2014/05/06', '2016-04-12', '2019-04-06T11:20'])\n",
    "\n",
    "pd.to_datetime(date_series)"
   ]
  },
  {
   "cell_type": "markdown",
   "id": "bd0a89ac",
   "metadata": {},
   "source": [
    "### Distance between two series"
   ]
  },
  {
   "cell_type": "code",
   "execution_count": 49,
   "id": "45251b89",
   "metadata": {},
   "outputs": [
    {
     "name": "stdout",
     "output_type": "stream",
     "text": [
      "10.099504938362077\n"
     ]
    }
   ],
   "source": [
    "x = pd.Series(np.random.randint(1,10,10))\n",
    "y = pd.Series(np.random.randint(1,10,10))\n",
    "\n",
    "print(np.linalg.norm(x-y))"
   ]
  },
  {
   "cell_type": "code",
   "execution_count": null,
   "id": "572755fb",
   "metadata": {},
   "outputs": [],
   "source": []
  }
 ],
 "metadata": {
  "kernelspec": {
   "display_name": "Python 3 (ipykernel)",
   "language": "python",
   "name": "python3"
  },
  "language_info": {
   "codemirror_mode": {
    "name": "ipython",
    "version": 3
   },
   "file_extension": ".py",
   "mimetype": "text/x-python",
   "name": "python",
   "nbconvert_exporter": "python",
   "pygments_lexer": "ipython3",
   "version": "3.9.12"
  }
 },
 "nbformat": 4,
 "nbformat_minor": 5
}
