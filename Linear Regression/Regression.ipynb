{
 "cells": [
  {
   "cell_type": "markdown",
   "metadata": {},
   "source": [
    "## Least Squares Method"
   ]
  },
  {
   "cell_type": "markdown",
   "metadata": {},
   "source": [
    "In this example, we will use the least square method."
   ]
  },
  {
   "cell_type": "code",
   "execution_count": 1,
   "metadata": {},
   "outputs": [],
   "source": [
    "import numpy as np"
   ]
  },
  {
   "cell_type": "code",
   "execution_count": 2,
   "metadata": {},
   "outputs": [],
   "source": [
    "# We use the following functin for the least square method\n",
    "\n",
    "def min_sq(x,y):\n",
    "    x_bar,y_bar=np.mean(x),np.mean(y)\n",
    "    beta_1=np.dot(x-x_bar,y-y_bar)/np.linalg.norm(x-x_bar)**2\n",
    "    beta_0=y_bar-beta_1*x_bar\n",
    "    return [beta_1,beta_0]"
   ]
  },
  {
   "cell_type": "code",
   "execution_count": 3,
   "metadata": {},
   "outputs": [],
   "source": [
    "N=50 # Data generation\n",
    "a=np.random.normal(loc=2,scale=1,size=N) # randomly generate the coefficients of the line\n",
    "b=np.random.randn(1) # randomly generate the points surrounding the line\n",
    "x=np.random.randn(N)\n",
    "y=a*x+b+0.001*np.random.randn(N)"
   ]
  },
  {
   "cell_type": "code",
   "execution_count": 4,
   "metadata": {},
   "outputs": [
    {
     "data": {
      "text/plain": [
       "(array([ 1.807755  , -0.59661113,  1.08881112, -0.22062767,  0.40838767,\n",
       "        -0.65863296,  1.48097446,  0.81136382,  1.61897107,  0.02014819,\n",
       "        -1.35647784,  0.41095819,  2.80253431,  1.31599637,  0.68411432,\n",
       "        -0.79090784,  0.67846988, -0.18506324,  0.9351158 , -0.52183854,\n",
       "         1.01899794,  0.505078  ,  0.93601062, -0.55806279, -0.71084009,\n",
       "        -1.02862168, -0.33714649,  1.13335844,  0.36196877, -1.81863839,\n",
       "        -0.63281934,  0.89913781,  0.53285908,  1.20885038, -1.67363085,\n",
       "         0.17432231,  0.739226  ,  1.22950647, -1.0962088 , -0.91379543,\n",
       "         1.31579655,  1.47286765, -0.46576689, -0.0826652 ,  2.059129  ,\n",
       "         0.49525999, -0.84159244,  0.17673275,  0.21629635,  1.28641112]),\n",
       " array([ 3.59436876,  0.16039386,  3.03710016,  0.48285326,  1.49897087,\n",
       "        -1.07708486,  5.4557558 ,  2.66252233,  5.31306762,  0.80232416,\n",
       "        -1.69541883,  1.8999541 ,  5.43009463,  3.05092735,  2.40540986,\n",
       "        -0.64361435,  2.31163014,  0.21448211,  2.47244159, -0.13392952,\n",
       "         3.06513934,  1.4616691 ,  2.24330612, -1.05102683, -0.88219348,\n",
       "        -2.06088152,  0.12963587,  3.30925452,  1.4220037 , -1.83249713,\n",
       "        -0.7203887 ,  1.4066249 ,  1.65723676,  2.80766365, -5.51595532,\n",
       "         1.03760749,  2.53628716,  3.06387687, -0.33595075,  0.02906112,\n",
       "         4.19879634,  1.62490353,  0.46858321,  0.4853857 ,  6.05937748,\n",
       "         2.32120925,  0.0783165 ,  1.32984501,  0.99780416,  2.1503225 ]))"
      ]
     },
     "execution_count": 4,
     "metadata": {},
     "output_type": "execute_result"
    }
   ],
   "source": [
    "x, y"
   ]
  },
  {
   "cell_type": "code",
   "execution_count": 5,
   "metadata": {},
   "outputs": [],
   "source": [
    "a1,b1=min_sq(x,y) # estimating coefficients"
   ]
  },
  {
   "cell_type": "code",
   "execution_count": 6,
   "metadata": {},
   "outputs": [
    {
     "data": {
      "text/plain": [
       "(1.9805678353354093, 0.7670868638674282)"
      ]
     },
     "execution_count": 6,
     "metadata": {},
     "output_type": "execute_result"
    }
   ],
   "source": [
    "a1,b1"
   ]
  },
  {
   "cell_type": "code",
   "execution_count": 7,
   "metadata": {},
   "outputs": [
    {
     "data": {
      "text/plain": [
       "<matplotlib.legend.Legend at 0x2abfce26cc8>"
      ]
     },
     "execution_count": 7,
     "metadata": {},
     "output_type": "execute_result"
    },
    {
     "data": {
      "image/png": "[encoded data removed]",
      "text/plain": [
       "<Figure size 432x288 with 1 Axes>"
      ]
     },
     "metadata": {
      "needs_background": "light"
     },
     "output_type": "display_data"
    }
   ],
   "source": [
    "import matplotlib.pyplot as plt\n",
    "\n",
    "x_seq=np.arange(-5,5,0.1)\n",
    "y_pre=x_seq*a1+b1\n",
    "\n",
    "\n",
    "plt.scatter(x,y,c=\"black\") # plots of the points\n",
    "plt.axhline(y=0,c=\"black\",linewidth=0.5)\n",
    "plt.axvline(x=0,c=\"black\",linewidth=0.5)\n",
    "plt.plot(x_seq,y_pre,c=\"blue\",label=\"y=Ax+b\") # the line before centering\n",
    "plt.legend(loc=\"upper left\")"
   ]
  },
  {
   "cell_type": "markdown",
   "metadata": {},
   "source": [
    "#### The same result can be obtained by using sklearn"
   ]
  },
  {
   "cell_type": "code",
   "execution_count": 8,
   "metadata": {},
   "outputs": [],
   "source": [
    "from sklearn.linear_model import LinearRegression\n",
    "lr=LinearRegression()"
   ]
  },
  {
   "cell_type": "code",
   "execution_count": 9,
   "metadata": {},
   "outputs": [],
   "source": [
    "x,y = x.reshape((-1,1)), y.reshape((-1,1))"
   ]
  },
  {
   "cell_type": "code",
   "execution_count": 10,
   "metadata": {},
   "outputs": [
    {
     "data": {
      "text/plain": [
       "LinearRegression()"
      ]
     },
     "execution_count": 10,
     "metadata": {},
     "output_type": "execute_result"
    }
   ],
   "source": [
    "lr.fit(x,y)"
   ]
  },
  {
   "cell_type": "code",
   "execution_count": 11,
   "metadata": {},
   "outputs": [],
   "source": [
    "# Comparing both results"
   ]
  },
  {
   "cell_type": "code",
   "execution_count": 12,
   "metadata": {},
   "outputs": [
    {
     "data": {
      "text/plain": [
       "(1.9805678353354093, 0.7670868638674282)"
      ]
     },
     "execution_count": 12,
     "metadata": {},
     "output_type": "execute_result"
    }
   ],
   "source": [
    "a1,b1"
   ]
  },
  {
   "cell_type": "code",
   "execution_count": 13,
   "metadata": {},
   "outputs": [
    {
     "data": {
      "text/plain": [
       "(array([[1.98056784]]), array([0.76708686]))"
      ]
     },
     "execution_count": 13,
     "metadata": {},
     "output_type": "execute_result"
    }
   ],
   "source": [
    "lr.coef_,lr.intercept_"
   ]
  },
  {
   "cell_type": "code",
   "execution_count": null,
   "metadata": {},
   "outputs": [],
   "source": []
  }
 ],
 "metadata": {
  "kernelspec": {
   "display_name": "Python 3",
   "language": "python",
   "name": "python3"
  },
  "language_info": {
   "codemirror_mode": {
    "name": "ipython",
    "version": 3
   },
   "file_extension": ".py",
   "mimetype": "text/x-python",
   "name": "python",
   "nbconvert_exporter": "python",
   "pygments_lexer": "ipython3",
   "version": "3.7.6"
  }
 },
 "nbformat": 4,
 "nbformat_minor": 4
}
